{
 "cells": [
  {
   "cell_type": "markdown",
   "metadata": {},
   "source": [
    "# Домашнее задание 6\n",
    "## EM-алгоритм для рассекречивания данных"
   ]
  },
  {
   "cell_type": "markdown",
   "metadata": {},
   "source": [
    "Сбербанк начал крупный совместный AI-проект с Европейской комиссией. В рамках проекта специалисты Сбербанка будут разрабатывать мощную систему искусственного интелеллекта для автоматизации работы институтов Евросоюза, а Евросоюз - поставлять данные и экспертизу в прикладной области. Чтобы обеспечить максимальную безопасность при передаче наиболее ценной и особо секретной информации, Еврокомиссия тайно пригласила в Брюссель надежного человека из России и передала данные на внешнем носителе. В целях безопасности имя этого человека не сообщается. Чтобы Сбербанк мог назначить встречу со специалистом, Еврокомиссия прислала его зашумленные фото и сообщила, что это член группы [байесовских методов машинного обучения](http://bayesgroup.ru/people). Помогите Сбербанку восстановить фотографию специалиста!\n",
    "\n",
    "Когда вы узнаете, [кто это](http://bayesgroup.ru/people), пришлите:\n",
    "* имя и фамилию этого человека\n",
    "* восстановленное фото человека\n",
    "* этот ноутбук с вашим решением\n",
    "\n",
    "Надежде Чирковой (@nadiinchi в Телеграме). Первые два человека получат небольшой подарок в благодарность за помощь Сбербанку! Пожалуйста, не делайте спойлеров другим студентам!\n",
    "\n",
    "У вас есть __только одна попытка__ отправить сообщение!\n",
    "\n",
    "Обратите внимание, что отправка сообщения не означает сдачу задания. Чтобы сдать задание, загрузите аккуратно оформленный ipynb файл в Anytask (это можно сделать позже, но до дедлайна)."
   ]
  },
  {
   "cell_type": "code",
   "execution_count": null,
   "metadata": {
    "collapsed": true
   },
   "outputs": [],
   "source": [
    "import numpy as np\n",
    "from matplotlib import pyplot as plt\n",
    "%matplotlib inline"
   ]
  },
  {
   "cell_type": "code",
   "execution_count": null,
   "metadata": {
    "collapsed": true
   },
   "outputs": [],
   "source": [
    "DATA_FILE = \"data_em\"\n",
    "w = 75 # face_width"
   ]
  },
  {
   "cell_type": "markdown",
   "metadata": {},
   "source": [
    "### Данные"
   ]
  },
  {
   "cell_type": "markdown",
   "metadata": {},
   "source": [
    "Вам выдан набор $K$ зашумленных изображений размера $H \\times W$.\n",
    "\n",
    "Он представлен в виде numpy-матрицы размера $H \\times W \\times K$:"
   ]
  },
  {
   "cell_type": "code",
   "execution_count": null,
   "metadata": {
    "collapsed": true
   },
   "outputs": [],
   "source": [
    "X = np.load(DATA_FILE)"
   ]
  },
  {
   "cell_type": "code",
   "execution_count": null,
   "metadata": {
    "collapsed": true
   },
   "outputs": [],
   "source": [
    "X.shape # H, W, K"
   ]
  },
  {
   "cell_type": "markdown",
   "metadata": {},
   "source": [
    "Пример зашумленного изображения:"
   ]
  },
  {
   "cell_type": "code",
   "execution_count": null,
   "metadata": {
    "collapsed": true
   },
   "outputs": [],
   "source": [
    "plt.imshow(X[:, :, 0], cmap=\"Greys_r\")\n",
    "plt.axis(\"off\")"
   ]
  },
  {
   "cell_type": "markdown",
   "metadata": {},
   "source": [
    "### Цель и план"
   ]
  },
  {
   "cell_type": "markdown",
   "metadata": {},
   "source": [
    "Наша цель - восстановить лицо $F$ ($H \\times w$).\n",
    "\n",
    "Также мы найдем:\n",
    "* $B$: фон изображения  ($H \\times W$)\n",
    "* $s$: стандартное отклонение шума (float)\n",
    "* $a$: дискретное априорное распределение на позицию лица на изображении ($W-w+1$)\n",
    "* $q(d)$: дискретное апостериорное распределение на позицию лица на каждом изображении (($W-w+1$) x $K$)"
   ]
  },
  {
   "cell_type": "markdown",
   "metadata": {},
   "source": [
    "План реализации:\n",
    "1. вычисление $log\\, p(X  \\mid d,\\,F,\\,B,\\,s)$\n",
    "1. вычисление $\\mathcal{L}$\n",
    "1. E-шаг: поиск $q(d)$\n",
    "1. M-шаг: оценка $F,\\, B, \\,s, \\,a$\n",
    "1. составление EM-алгоритма из E- и M-шагов."
   ]
  },
  {
   "cell_type": "markdown",
   "metadata": {},
   "source": [
    "### Реализация"
   ]
  },
  {
   "cell_type": "code",
   "execution_count": null,
   "metadata": {
    "collapsed": true
   },
   "outputs": [],
   "source": [
    "### Variables to test implementation\n",
    "### Just run this cell\n",
    "tH, tW, tw, tK = 2, 3, 1, 2\n",
    "tX = np.arange(tH*tW*tK).reshape(tH, tW, tK)\n",
    "tF = np.arange(tH*tw).reshape(tH, tw)\n",
    "tB = np.arange(tH*tW).reshape(tH, tW)\n",
    "ts = 0.1\n",
    "ta = np.arange(1, (tW-tw+1)+1)\n",
    "ta = ta / ta.sum()\n",
    "tq = np.arange(1, (tW-tw+1)*tK+1).reshape(tW-tw+1, tK)\n",
    "tq = tq / tq.sum(axis=0)[np.newaxis, :]"
   ]
  },
  {
   "cell_type": "markdown",
   "metadata": {},
   "source": [
    "#### 1. Реализуйте функцию calculate_log_probability\n",
    "Для $k$-го изображения $X_k$ и некоторой позиции лица $d_k$:\n",
    "$$p(X_k  \\mid d_k,\\,F,\\,B,\\,s) = \\prod_{ij}\n",
    "    \\begin{cases} \n",
    "    \t\\mathcal{N}(X_k[i,j]\\mid F[i,\\,j-d_k],\\,s^2), \n",
    "    \t& \\text{if}\\, (i,j)\\in faceArea(d_k)\\\\\n",
    "    \t\\mathcal{N}(X_k[i,j]\\mid B[i,j],\\,s^2), & \\text{else}\n",
    "    \\end{cases}$$\n",
    "\n",
    "Важные указания:\n",
    "* Не забудьте про логарифм!\n",
    "* В реализации этой функции должно быть не больше 1 цикла! (цикл по d_k)"
   ]
  },
  {
   "cell_type": "code",
   "execution_count": null,
   "metadata": {
    "collapsed": true
   },
   "outputs": [],
   "source": [
    "def calculate_log_probability(X, F, B, s):\n",
    "    \"\"\"\n",
    "    Calculates log p(X_k|d_k, F, B, s) for all images X_k in X and\n",
    "    all possible face position d_k.\n",
    "\n",
    "    Parameters\n",
    "    ----------\n",
    "    X : array, shape (H, W, K)\n",
    "        K images of size H x W.\n",
    "    F : array, shape (H, w)\n",
    "        Estimate of prankster's face.\n",
    "    B : array, shape (H, W)\n",
    "        Estimate of background.\n",
    "    s : float\n",
    "        Estimate of standard deviation of Gaussian noise.\n",
    "\n",
    "    Returns\n",
    "    -------\n",
    "    ll : array, shape(W-w+1, K)\n",
    "        ll[dw, k] - log-likelihood of observing image X_k given\n",
    "        that the prankster's face F is located at position dw\n",
    "    \"\"\"\n",
    "    # your code here"
   ]
  },
  {
   "cell_type": "code",
   "execution_count": null,
   "metadata": {
    "collapsed": true
   },
   "outputs": [],
   "source": [
    "# run this cell to test your implementation\n",
    "expected = np.array([[-3541.69812064, -5541.69812064],\n",
    "       [-4541.69812064, -6741.69812064],\n",
    "       [-6141.69812064, -8541.69812064]])\n",
    "actual = calculate_log_probability(tX, tF, tB, ts)\n",
    "assert np.allclose(actual, expected)\n",
    "print(\"OK\")"
   ]
  },
  {
   "cell_type": "markdown",
   "metadata": {},
   "source": [
    "#### 2. Реализуйте функцию calculate_lower_bound\n",
    "$$\\mathcal{L}(q, \\,F, \\,B,\\, s,\\, a) = \\sum_k \\biggl (\\mathbb{E} _ {q( d_k)}\\bigl ( \\log p(  X_{k}  \\mid {d}_{k} , \\,F,\\,B,\\,s) + \n",
    "    \\log p( d_k  \\mid a)\\bigr) - \\mathbb{E} _ {q( d_k)} \\log q( d_k)\\biggr) $$\n",
    "    \n",
    "Важные указания:\n",
    "* Используйте уже реализованную функцию calculate_log_probability! \n",
    "* Учтите, что распределения $q( d_k)$ and $p( d_k  \\mid a)$ - дискретные. Например, $P(d_k=i \\mid a) = a[i]$.\n",
    "* В реализации этой функции не должно быть циклов!"
   ]
  },
  {
   "cell_type": "code",
   "execution_count": null,
   "metadata": {
    "collapsed": true
   },
   "outputs": [],
   "source": [
    "def calculate_lower_bound(X, F, B, s, a, q):\n",
    "    \"\"\"\n",
    "    Calculates the lower bound L(q, F, B, s, a) for \n",
    "    the marginal log likelihood.\n",
    "\n",
    "    Parameters\n",
    "    ----------\n",
    "    X : array, shape (H, W, K)\n",
    "        K images of size H x W.\n",
    "    F : array, shape (H, w)\n",
    "        Estimate of prankster's face.\n",
    "    B : array, shape (H, W)\n",
    "        Estimate of background.\n",
    "    s : float\n",
    "        Estimate of standard deviation of Gaussian noise.\n",
    "    a : array, shape (W-w+1)\n",
    "        Estimate of prior on position of face in any image.\n",
    "    q : array\n",
    "        q[dw, k] - estimate of posterior \n",
    "                   of position dw\n",
    "                   of prankster's face given image Xk\n",
    "\n",
    "    Returns\n",
    "    -------\n",
    "    L : float\n",
    "        The lower bound L(q, F, B, s, a) \n",
    "        for the marginal log likelihood.\n",
    "    \"\"\"\n",
    "    # your code here"
   ]
  },
  {
   "cell_type": "code",
   "execution_count": null,
   "metadata": {
    "collapsed": true
   },
   "outputs": [],
   "source": [
    "# run this cell to test your implementation\n",
    "expected = -12761.1875\n",
    "actual = calculate_lower_bound(tX, tF, tB, ts, ta, tq)\n",
    "assert np.allclose(actual, expected)\n",
    "print(\"OK\")"
   ]
  },
  {
   "cell_type": "markdown",
   "metadata": {},
   "source": [
    "#### 3. Реализуйте E-шаг\n",
    "$$q(d_k) = p(d_k \\mid X_k, \\,F, \\,B, \\,s,\\, a) = \n",
    "\\frac {p(  X_{k}  \\mid {d}_{k} , \\,F,\\,B,\\,s)\\, p(d_k \\mid a)}\n",
    "{\\sum_{d'_k} p(  X_{k}  \\mid d'_k , \\,F,\\,B,\\,s) \\,p(d'_k \\mid a)}$$\n",
    "\n",
    "Важные указания:\n",
    "* Используйте уже реализованную функцию calculate_log_probability!\n",
    "* Для вычислительной стабильности выполняйте все вычисления с логарифмами величин и примените к ним экспоненту только перед return. Также используйте следующий трюк:\n",
    "$$\\beta_i = \\log{p_i(\\dots)} \\quad\\rightarrow \\quad\n",
    "\t\\frac{e^{\\beta_i}}{\\sum_k e^{\\beta_k}} = \n",
    "\t\\frac{e^{(\\beta_i - \\max_j \\beta_j)}}{\\sum_k e^{(\\beta_k- \\max_j \\beta_j)}}$$\n",
    "* В реализации этой функции не должно быть циклов!"
   ]
  },
  {
   "cell_type": "code",
   "execution_count": null,
   "metadata": {
    "collapsed": true
   },
   "outputs": [],
   "source": [
    "def run_e_step(X, F, B, s, a):\n",
    "    \"\"\"\n",
    "    Given the current esitmate of the parameters, for each image Xk\n",
    "    esitmates the probability p(d_k|X_k, F, B, s, a).\n",
    "\n",
    "    Parameters\n",
    "    ----------\n",
    "    X : array, shape(H, W, K)\n",
    "        K images of size H x W.\n",
    "    F  : array_like, shape(H, w)\n",
    "        Estimate of prankster's face.\n",
    "    B : array shape(H, W)\n",
    "        Estimate of background.\n",
    "    s : float\n",
    "        Eestimate of standard deviation of Gaussian noise.\n",
    "    a : array, shape(W-w+1)\n",
    "        Estimate of prior on face position in any image.\n",
    "\n",
    "    Returns\n",
    "    -------\n",
    "    q : array\n",
    "        shape (W-w+1, K)\n",
    "        q[dw, k] - estimate of posterior of position dw\n",
    "        of prankster's face given image Xk\n",
    "    \"\"\"\n",
    "    # your code here"
   ]
  },
  {
   "cell_type": "code",
   "execution_count": null,
   "metadata": {
    "collapsed": true
   },
   "outputs": [],
   "source": [
    "# run this cell to test your implementation\n",
    "expected = np.array([[ 1.,  1.],\n",
    "                   [ 0.,  0.],\n",
    "                   [ 0.,  0.]])\n",
    "actual = run_e_step(tX, tF, tB, ts, ta)\n",
    "assert np.allclose(actual, expected)\n",
    "print(\"OK\")"
   ]
  },
  {
   "cell_type": "markdown",
   "metadata": {},
   "source": [
    "#### 4. Реализуйте M-шаг\n",
    "$$a[j] = \\frac{\\sum_k q( d_k = j )}{\\sum_{j'}  \\sum_{k'} q( d_{k'} = j')}$$\n",
    "$$F[i, m] = \\frac 1 K  \\sum_k \\sum_{d_k} q(d_k)\\, X^k[i,\\, m+d_k]$$\n",
    "$$B[i, j] = \\frac {\\sum_k \\sum_{ d_k:\\, (i, \\,j) \\,\\not\\in faceArea(d_k)} q(d_k)\\, X^k[i, j]} \n",
    "\t  \t{\\sum_k \\sum_{d_k: \\,(i, \\,j)\\, \\not\\in faceArea(d_k)} q(d_k)}$$\n",
    "$$s^2 = \\frac 1 {HWK}   \\sum_k \\sum_{d_k} q(d_k)\n",
    "\t  \t\\sum_{i,\\, j}  (X^k[i, \\,j] - Model^{d_k}[i, \\,j])^2$$\n",
    "\n",
    "где $Model^{d_k}[i, j]$ - это изображение, составленное из фона и лица, размещенного в положении $d_k$.\n",
    "\n",
    "Важные указания:\n",
    "* Обновляйте параметры в следующем порядке: $a$, $F$, $B$, $s$.\n",
    "* Когда параметр обновлен, его __новое__ значение используется для обновления других параметров.\n",
    "* В реализации этой функции должно быть не более 3 циклов (а лучше только 2) и не должно быть вложенных циклов!"
   ]
  },
  {
   "cell_type": "code",
   "execution_count": null,
   "metadata": {
    "collapsed": true
   },
   "outputs": [],
   "source": [
    "def run_m_step(X, q, w):\n",
    "    \"\"\"\n",
    "    Estimates F, B, s, a given esitmate of posteriors defined by q.\n",
    "\n",
    "    Parameters\n",
    "    ----------\n",
    "    X : array, shape (H, W, K)\n",
    "        K images of size H x W.\n",
    "    q  :\n",
    "        q[dw, k] - estimate of posterior of position dw\n",
    "                   of prankster's face given image Xk\n",
    "    w : int\n",
    "        Face mask width.\n",
    "\n",
    "    Returns\n",
    "    -------\n",
    "    F : array, shape (H, w)\n",
    "        Estimate of prankster's face.\n",
    "    B : array, shape (H, W)\n",
    "        Estimate of background.\n",
    "    s : float\n",
    "        Estimate of standard deviation of Gaussian noise.\n",
    "    a : array, shape (W-w+1)\n",
    "        Estimate of prior on position of face in any image.\n",
    "    \"\"\"\n",
    "    # your code here"
   ]
  },
  {
   "cell_type": "code",
   "execution_count": null,
   "metadata": {
    "collapsed": true
   },
   "outputs": [],
   "source": [
    "# run this cell to test your implementation\n",
    "expected = [np.array([[ 3.27777778],\n",
    "                      [ 9.27777778]]),\n",
    " np.array([[  0.48387097,   2.5       ,   4.52941176],\n",
    "           [  6.48387097,   8.5       ,  10.52941176]]),\n",
    "  0.94868,\n",
    " np.array([ 0.13888889,  0.33333333,  0.52777778])]\n",
    "actual = run_m_step(tX, tq, tw)\n",
    "for a, e in zip(actual, expected):\n",
    "    assert np.allclose(a, e)\n",
    "print(\"OK\")"
   ]
  },
  {
   "cell_type": "markdown",
   "metadata": {},
   "source": [
    "#### 5. Реализуйте EM_algorithm\n",
    "Инициализируйте параметры, если они не переданы, и повторяйте E- и M-шаги до сходимости. Сходимость наступает, когда разница между значениями $\\mathcal{L}(q, \\,F, \\,B, \\,s, \\,a)$ на данной и предыдущей итерации меньше величины tolerance.\n",
    "\n",
    "Значение $\\mathcal{L}(q, \\,F, \\,B, \\,s, \\,a)$ должно возрастать после каждого обновления."
   ]
  },
  {
   "cell_type": "code",
   "execution_count": null,
   "metadata": {
    "collapsed": true
   },
   "outputs": [],
   "source": [
    "def run_EM(X, w, F=None, B=None, s=None, a=None, tolerance=0.001,\n",
    "           max_iter=50):\n",
    "    \"\"\"\n",
    "    Runs EM loop until the likelihood of observing X given current\n",
    "    estimate of parameters is idempotent as defined by a fixed\n",
    "    tolerance.\n",
    "\n",
    "    Parameters\n",
    "    ----------\n",
    "    X : array, shape (H, W, K)\n",
    "        K images of size H x W.\n",
    "    w : int\n",
    "        Face mask width.\n",
    "    F : array, shape (H, w), optional\n",
    "        Initial estimate of prankster's face.\n",
    "    B : array, shape (H, W), optional\n",
    "        Initial estimate of background.\n",
    "    s : float, optional\n",
    "        Initial estimate of standard deviation of Gaussian noise.\n",
    "    a : array, shape (W-w+1), optional\n",
    "        Initial estimate of prior on position of face in any image.\n",
    "    tolerance : float, optional\n",
    "        Parameter for stopping criterion.\n",
    "    max_iter  : int, optional\n",
    "        Maximum number of iterations.\n",
    "\n",
    "    Returns\n",
    "    -------\n",
    "    F, B, s, a : trained parameters.\n",
    "    LL : array, shape(number_of_iters + 2,)\n",
    "        L(q, F, B, s, a) at initial guess, \n",
    "        after each EM iteration and after\n",
    "        final estimate of posteriors;\n",
    "        number_of_iters is actual number of iterations that was done.\n",
    "    \"\"\"\n",
    "    H, W, N = X.shape\n",
    "    if F is None:\n",
    "        F = np.random.randint(0, 255, (H, w))\n",
    "    if B is None:\n",
    "        B = np.random.randint(0, 255, (H, W))\n",
    "    if a is None:\n",
    "        a = np.ones(W - w + 1)\n",
    "        a /= np.sum(a)\n",
    "    if s is None:\n",
    "        s = np.random.rand()*pow(64,2)\n",
    "    # your code here\n",
    "    "
   ]
  },
  {
   "cell_type": "code",
   "execution_count": null,
   "metadata": {
    "collapsed": true
   },
   "outputs": [],
   "source": [
    "# run this cell to test your implementation\n",
    "res = run_EM(tX, tw, max_iter=3)\n",
    "LL = res[-1]\n",
    "assert np.alltrue(LL[1:] - LL[:-1] > 0)\n",
    "print(\"OK\")"
   ]
  },
  {
   "cell_type": "markdown",
   "metadata": {},
   "source": [
    "### Кого отправил Брюссель?"
   ]
  },
  {
   "cell_type": "markdown",
   "metadata": {},
   "source": [
    "Чтобы ускорить вычисления, мы выполним 5 итераций по маленькому набору изображений и далее будем постепенно увеличивать число изображений.\n",
    "\n",
    "Если все реализовано верно, вы сможете узнать специалиста, сравнив его фотографию с фотографиями членов группы байесовских методов.\n",
    "\n",
    "Запустите EM-алгоритм:"
   ]
  },
  {
   "cell_type": "code",
   "execution_count": null,
   "metadata": {
    "collapsed": true
   },
   "outputs": [],
   "source": [
    "def show(F, i=1, n=1):\n",
    "    \"\"\"\n",
    "    shows face F at subplot i out of n\n",
    "    \"\"\"\n",
    "    plt.subplot(1, n, i)\n",
    "    plt.imshow(F, cmap=\"Greys_r\")\n",
    "    plt.axis(\"off\")"
   ]
  },
  {
   "cell_type": "code",
   "execution_count": null,
   "metadata": {
    "collapsed": true
   },
   "outputs": [],
   "source": [
    "F, B, s, a = [None] * 4\n",
    "LL = []\n",
    "lens = [50, 100, 300, 500, 1000]\n",
    "iters = [5, 1, 1, 1, 1]\n",
    "plt.figure(figsize=(20, 5))\n",
    "for i, (l, it) in enumerate(zip(lens, iters)):\n",
    "    F, B, s, a, _ = run_EM(X[:, :, :l], w, F, B, s, a, max_iter=it)\n",
    "    show(F, i+1, 5)"
   ]
  },
  {
   "cell_type": "markdown",
   "metadata": {},
   "source": [
    "Фон:"
   ]
  },
  {
   "cell_type": "code",
   "execution_count": null,
   "metadata": {
    "collapsed": true
   },
   "outputs": [],
   "source": [
    "show(B)"
   ]
  },
  {
   "cell_type": "markdown",
   "metadata": {},
   "source": [
    "### Бонусное задание: hard-EM\n",
    "За выполнение этого задания можно получить 5 бонусных баллов."
   ]
  },
  {
   "cell_type": "markdown",
   "metadata": {},
   "source": [
    "В бонусной части предлагается реализовать упрощенный алгоритм hard-EM и сравнить результат его работы с полным агоритмом. В алгоритме hard-EM вместо поиска апостериорного распределения на позицию лица $p(d_k|X_k, F, B, s, A)$ на E-шаге выполняется поиск аргмаксимума этого распределения $\\tilde d_k$ для каждого изображения $k$. Таким образом, распределение q заменяется вырожденным распределением:\n",
    "$$q(d_k) = \\begin{cases} 1, \\, if d_k = \\tilde d_k \\\\ 0, \\, otherwise\\end{cases}$$\n",
    "Эта модификация упрощает формулы для $\\mathcal{L}$ и для M-шага и ускоряет их вычисление. Однако, сходится hard-EM медленнее.\n",
    "\n",
    "Если вы реализуете hard-EM, добавьте бинарный флаг hard_EM в прототипы следующих функций:\n",
    "* calculate_lower_bound\n",
    "* run_e_step\n",
    "* run_m_step\n",
    "* run_EM\n",
    "\n",
    "и реализуйте обработку этого флага (использование упрощенного алгоритма вместо полного).\n",
    "\n",
    "Сравните результат (восстановленное лицо) и скорость сходимости (в терминах числа итераций и в терминах времени работы) EM и hard EM."
   ]
  },
  {
   "cell_type": "code",
   "execution_count": null,
   "metadata": {
    "collapsed": true
   },
   "outputs": [],
   "source": []
  }
 ],
 "metadata": {
  "kernelspec": {
   "display_name": "Python 3",
   "language": "python",
   "name": "python3"
  },
  "language_info": {
   "codemirror_mode": {
    "name": "ipython",
    "version": 3
   },
   "file_extension": ".py",
   "mimetype": "text/x-python",
   "name": "python",
   "nbconvert_exporter": "python",
   "pygments_lexer": "ipython3",
   "version": "3.6.3"
  }
 },
 "nbformat": 4,
 "nbformat_minor": 2
}
